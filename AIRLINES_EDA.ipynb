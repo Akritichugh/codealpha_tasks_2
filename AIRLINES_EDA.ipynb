{
  "nbformat": 4,
  "nbformat_minor": 0,
  "metadata": {
    "colab": {
      "provenance": [],
      "authorship_tag": "ABX9TyPE94U8GM/7/HvKtnXUFD4Q",
      "include_colab_link": true
    },
    "kernelspec": {
      "name": "python3",
      "display_name": "Python 3"
    },
    "language_info": {
      "name": "python"
    }
  },
  "cells": [
    {
      "cell_type": "markdown",
      "metadata": {
        "id": "view-in-github",
        "colab_type": "text"
      },
      "source": [
        "<a href=\"https://colab.research.google.com/github/Akritichugh/codealpha_tasks_2/blob/main/AIRLINES_EDA.ipynb\" target=\"_parent\"><img src=\"https://colab.research.google.com/assets/colab-badge.svg\" alt=\"Open In Colab\"/></a>"
      ]
    },
    {
      "cell_type": "markdown",
      "source": [
        "# Introduction: Understanding Airline Flight Data"
      ],
      "metadata": {
        "id": "qd2lG3_1ydLg"
      }
    },
    {
      "cell_type": "markdown",
      "source": [
        "The airline industry operates on a vast and complex network of scheduled flights, airport logistics, and carrier performance.\n",
        "This dataset contains detailed flight information including airline names, departure and arrival times, delays, durations, and route paths. The data is collected from domestic flights in India over a specific time frame.\n",
        "\n",
        "With multiple features like airline, source, destination, duration, stops, and price, the dataset is suitable for pricing prediction and travel pattern analysis.\n",
        "\n",
        "###  Goals of this EDA:\n",
        "\n",
        "- Understand key drivers of flight pricing.\n",
        "- Analyze average delays and durations by airline.\n",
        "- Check correlation between features like stops, duration, and price.\n",
        "- Handle missing values and feature engineering (e.g., extracting hour from time)."
      ],
      "metadata": {
        "id": "OBp7rbuyzaWn"
      }
    },
    {
      "cell_type": "markdown",
      "source": [
        "## ABSTRACT:"
      ],
      "metadata": {
        "id": "U7cWGbmgzVqM"
      }
    },
    {
      "cell_type": "markdown",
      "source": [
        "| Column Name         | Description                                        |\n",
        "| ------------------- | -------------------------------------------------- |\n",
        "| `FL_DATE`           | Date of the flight                                 |\n",
        "| `OP_UNIQUE_CARRIER` | Airline code (unique carrier identifier)           |\n",
        "| `ORIGIN`            | Departure airport code                             |\n",
        "| `DEST`              | Destination airport code                           |\n",
        "| `DEP_TIME`          | Actual departure time                              |\n",
        "| `ARR_TIME`          | Actual arrival time                                |\n",
        "| `DEP_DELAY`         | Delay at departure (in minutes)                    |\n",
        "| `ARR_DELAY`         | Delay at arrival (in minutes)                      |\n",
        "| `CANCELLED`         | Whether the flight was cancelled (0 = No, 1 = Yes) |\n",
        "| `CANCELLATION_CODE` | Reason for cancellation (if any)                   |\n",
        "| `AIR_TIME`          | Actual time spent flying (in minutes)              |\n",
        "| `DISTANCE`          | Distance between origin and destination (in miles) |\n"
      ],
      "metadata": {
        "id": "tcVf24-tymUo"
      }
    },
    {
      "cell_type": "markdown",
      "source": [
        "# IMPORTING LIBRARIES"
      ],
      "metadata": {
        "id": "Hwnrxyq62gxl"
      }
    },
    {
      "cell_type": "code",
      "source": [
        "import numpy as np\n",
        "import pandas as pd\n",
        "import matplotlib.pyplot as plt\n",
        "import seaborn as sns\n",
        "import warnings\n",
        "warnings.filterwarnings('ignore')\n",
        "pd.set_option('display.max_columns', None)"
      ],
      "metadata": {
        "id": "EoHHd5de2qHv"
      },
      "execution_count": null,
      "outputs": []
    },
    {
      "cell_type": "markdown",
      "source": [
        "# LOADING DATASET"
      ],
      "metadata": {
        "id": "zi7ipRqN3M0x"
      }
    },
    {
      "cell_type": "code",
      "source": [
        "df = pd.read_csv('airlines_flights_data.csv')"
      ],
      "metadata": {
        "id": "cPq1AARC3Qk-"
      },
      "execution_count": null,
      "outputs": []
    },
    {
      "cell_type": "markdown",
      "source": [
        "# BASIC INFO"
      ],
      "metadata": {
        "id": "EpcAPpBv13AY"
      }
    },
    {
      "cell_type": "markdown",
      "source": [
        "### ROWS AND COLUMNS IN DATASET"
      ],
      "metadata": {
        "id": "GpafhBeK3ogQ"
      }
    },
    {
      "cell_type": "code",
      "execution_count": null,
      "metadata": {
        "colab": {
          "base_uri": "https://localhost:8080/"
        },
        "id": "0uuEzPOyyP-f",
        "outputId": "fe81ae58-aa26-43be-8db4-1e31e334a43b"
      },
      "outputs": [
        {
          "output_type": "stream",
          "name": "stdout",
          "text": [
            "No. of rows are 300153 No. of columns 12\n"
          ]
        }
      ],
      "source": [
        "print(\"No. of rows are\",df.shape[0] , \"No. of columns are\",df.shape[1])"
      ]
    },
    {
      "cell_type": "markdown",
      "source": [
        "### DATATYPES AND NON-NULLS COUNTS"
      ],
      "metadata": {
        "id": "KbEtvayZ6bVA"
      }
    },
    {
      "cell_type": "code",
      "source": [
        "df.info()"
      ],
      "metadata": {
        "colab": {
          "base_uri": "https://localhost:8080/"
        },
        "id": "QPEmztmu6YPm",
        "outputId": "74113d66-fa05-4a86-9342-3bfe1113c727"
      },
      "execution_count": null,
      "outputs": [
        {
          "output_type": "stream",
          "name": "stdout",
          "text": [
            "<class 'pandas.core.frame.DataFrame'>\n",
            "RangeIndex: 300153 entries, 0 to 300152\n",
            "Data columns (total 12 columns):\n",
            " #   Column            Non-Null Count   Dtype  \n",
            "---  ------            --------------   -----  \n",
            " 0   index             300153 non-null  int64  \n",
            " 1   airline           300153 non-null  object \n",
            " 2   flight            300153 non-null  object \n",
            " 3   source_city       300153 non-null  object \n",
            " 4   departure_time    300153 non-null  object \n",
            " 5   stops             300153 non-null  object \n",
            " 6   arrival_time      300153 non-null  object \n",
            " 7   destination_city  300153 non-null  object \n",
            " 8   class             300153 non-null  object \n",
            " 9   duration          300153 non-null  float64\n",
            " 10  days_left         300153 non-null  int64  \n",
            " 11  price             300153 non-null  int64  \n",
            "dtypes: float64(1), int64(3), object(8)\n",
            "memory usage: 27.5+ MB\n"
          ]
        }
      ]
    },
    {
      "cell_type": "markdown",
      "source": [
        "### FIRST FIVE AND LAST FIVE ROWS OF DATASET"
      ],
      "metadata": {
        "id": "K6h2AYMe4nM4"
      }
    },
    {
      "cell_type": "code",
      "source": [
        " df.head()\n"
      ],
      "metadata": {
        "colab": {
          "base_uri": "https://localhost:8080/",
          "height": 295
        },
        "id": "yxi8ff-I4x7a",
        "outputId": "da650b92-23f1-4545-d0d7-9fe72d138e62"
      },
      "execution_count": null,
      "outputs": [
        {
          "output_type": "execute_result",
          "data": {
            "text/plain": [
              "   index   airline   flight source_city departure_time stops   arrival_time  \\\n",
              "0      0  SpiceJet  SG-8709       Delhi        Evening  zero          Night   \n",
              "1      1  SpiceJet  SG-8157       Delhi  Early_Morning  zero        Morning   \n",
              "2      2   AirAsia   I5-764       Delhi  Early_Morning  zero  Early_Morning   \n",
              "3      3   Vistara   UK-995       Delhi        Morning  zero      Afternoon   \n",
              "4      4   Vistara   UK-963       Delhi        Morning  zero        Morning   \n",
              "\n",
              "  destination_city    class  duration  days_left  price  \n",
              "0           Mumbai  Economy      2.17          1   5953  \n",
              "1           Mumbai  Economy      2.33          1   5953  \n",
              "2           Mumbai  Economy      2.17          1   5956  \n",
              "3           Mumbai  Economy      2.25          1   5955  \n",
              "4           Mumbai  Economy      2.33          1   5955  "
            ],
            "text/html": [
              "\n",
              "  <div id=\"df-68589d2d-6fd3-4ecc-bc1f-cb1c31a57b40\" class=\"colab-df-container\">\n",
              "    <div>\n",
              "<style scoped>\n",
              "    .dataframe tbody tr th:only-of-type {\n",
              "        vertical-align: middle;\n",
              "    }\n",
              "\n",
              "    .dataframe tbody tr th {\n",
              "        vertical-align: top;\n",
              "    }\n",
              "\n",
              "    .dataframe thead th {\n",
              "        text-align: right;\n",
              "    }\n",
              "</style>\n",
              "<table border=\"1\" class=\"dataframe\">\n",
              "  <thead>\n",
              "    <tr style=\"text-align: right;\">\n",
              "      <th></th>\n",
              "      <th>index</th>\n",
              "      <th>airline</th>\n",
              "      <th>flight</th>\n",
              "      <th>source_city</th>\n",
              "      <th>departure_time</th>\n",
              "      <th>stops</th>\n",
              "      <th>arrival_time</th>\n",
              "      <th>destination_city</th>\n",
              "      <th>class</th>\n",
              "      <th>duration</th>\n",
              "      <th>days_left</th>\n",
              "      <th>price</th>\n",
              "    </tr>\n",
              "  </thead>\n",
              "  <tbody>\n",
              "    <tr>\n",
              "      <th>0</th>\n",
              "      <td>0</td>\n",
              "      <td>SpiceJet</td>\n",
              "      <td>SG-8709</td>\n",
              "      <td>Delhi</td>\n",
              "      <td>Evening</td>\n",
              "      <td>zero</td>\n",
              "      <td>Night</td>\n",
              "      <td>Mumbai</td>\n",
              "      <td>Economy</td>\n",
              "      <td>2.17</td>\n",
              "      <td>1</td>\n",
              "      <td>5953</td>\n",
              "    </tr>\n",
              "    <tr>\n",
              "      <th>1</th>\n",
              "      <td>1</td>\n",
              "      <td>SpiceJet</td>\n",
              "      <td>SG-8157</td>\n",
              "      <td>Delhi</td>\n",
              "      <td>Early_Morning</td>\n",
              "      <td>zero</td>\n",
              "      <td>Morning</td>\n",
              "      <td>Mumbai</td>\n",
              "      <td>Economy</td>\n",
              "      <td>2.33</td>\n",
              "      <td>1</td>\n",
              "      <td>5953</td>\n",
              "    </tr>\n",
              "    <tr>\n",
              "      <th>2</th>\n",
              "      <td>2</td>\n",
              "      <td>AirAsia</td>\n",
              "      <td>I5-764</td>\n",
              "      <td>Delhi</td>\n",
              "      <td>Early_Morning</td>\n",
              "      <td>zero</td>\n",
              "      <td>Early_Morning</td>\n",
              "      <td>Mumbai</td>\n",
              "      <td>Economy</td>\n",
              "      <td>2.17</td>\n",
              "      <td>1</td>\n",
              "      <td>5956</td>\n",
              "    </tr>\n",
              "    <tr>\n",
              "      <th>3</th>\n",
              "      <td>3</td>\n",
              "      <td>Vistara</td>\n",
              "      <td>UK-995</td>\n",
              "      <td>Delhi</td>\n",
              "      <td>Morning</td>\n",
              "      <td>zero</td>\n",
              "      <td>Afternoon</td>\n",
              "      <td>Mumbai</td>\n",
              "      <td>Economy</td>\n",
              "      <td>2.25</td>\n",
              "      <td>1</td>\n",
              "      <td>5955</td>\n",
              "    </tr>\n",
              "    <tr>\n",
              "      <th>4</th>\n",
              "      <td>4</td>\n",
              "      <td>Vistara</td>\n",
              "      <td>UK-963</td>\n",
              "      <td>Delhi</td>\n",
              "      <td>Morning</td>\n",
              "      <td>zero</td>\n",
              "      <td>Morning</td>\n",
              "      <td>Mumbai</td>\n",
              "      <td>Economy</td>\n",
              "      <td>2.33</td>\n",
              "      <td>1</td>\n",
              "      <td>5955</td>\n",
              "    </tr>\n",
              "  </tbody>\n",
              "</table>\n",
              "</div>\n",
              "    <div class=\"colab-df-buttons\">\n",
              "\n",
              "  <div class=\"colab-df-container\">\n",
              "    <button class=\"colab-df-convert\" onclick=\"convertToInteractive('df-68589d2d-6fd3-4ecc-bc1f-cb1c31a57b40')\"\n",
              "            title=\"Convert this dataframe to an interactive table.\"\n",
              "            style=\"display:none;\">\n",
              "\n",
              "  <svg xmlns=\"http://www.w3.org/2000/svg\" height=\"24px\" viewBox=\"0 -960 960 960\">\n",
              "    <path d=\"M120-120v-720h720v720H120Zm60-500h600v-160H180v160Zm220 220h160v-160H400v160Zm0 220h160v-160H400v160ZM180-400h160v-160H180v160Zm440 0h160v-160H620v160ZM180-180h160v-160H180v160Zm440 0h160v-160H620v160Z\"/>\n",
              "  </svg>\n",
              "    </button>\n",
              "\n",
              "  <style>\n",
              "    .colab-df-container {\n",
              "      display:flex;\n",
              "      gap: 12px;\n",
              "    }\n",
              "\n",
              "    .colab-df-convert {\n",
              "      background-color: #E8F0FE;\n",
              "      border: none;\n",
              "      border-radius: 50%;\n",
              "      cursor: pointer;\n",
              "      display: none;\n",
              "      fill: #1967D2;\n",
              "      height: 32px;\n",
              "      padding: 0 0 0 0;\n",
              "      width: 32px;\n",
              "    }\n",
              "\n",
              "    .colab-df-convert:hover {\n",
              "      background-color: #E2EBFA;\n",
              "      box-shadow: 0px 1px 2px rgba(60, 64, 67, 0.3), 0px 1px 3px 1px rgba(60, 64, 67, 0.15);\n",
              "      fill: #174EA6;\n",
              "    }\n",
              "\n",
              "    .colab-df-buttons div {\n",
              "      margin-bottom: 4px;\n",
              "    }\n",
              "\n",
              "    [theme=dark] .colab-df-convert {\n",
              "      background-color: #3B4455;\n",
              "      fill: #D2E3FC;\n",
              "    }\n",
              "\n",
              "    [theme=dark] .colab-df-convert:hover {\n",
              "      background-color: #434B5C;\n",
              "      box-shadow: 0px 1px 3px 1px rgba(0, 0, 0, 0.15);\n",
              "      filter: drop-shadow(0px 1px 2px rgba(0, 0, 0, 0.3));\n",
              "      fill: #FFFFFF;\n",
              "    }\n",
              "  </style>\n",
              "\n",
              "    <script>\n",
              "      const buttonEl =\n",
              "        document.querySelector('#df-68589d2d-6fd3-4ecc-bc1f-cb1c31a57b40 button.colab-df-convert');\n",
              "      buttonEl.style.display =\n",
              "        google.colab.kernel.accessAllowed ? 'block' : 'none';\n",
              "\n",
              "      async function convertToInteractive(key) {\n",
              "        const element = document.querySelector('#df-68589d2d-6fd3-4ecc-bc1f-cb1c31a57b40');\n",
              "        const dataTable =\n",
              "          await google.colab.kernel.invokeFunction('convertToInteractive',\n",
              "                                                    [key], {});\n",
              "        if (!dataTable) return;\n",
              "\n",
              "        const docLinkHtml = 'Like what you see? Visit the ' +\n",
              "          '<a target=\"_blank\" href=https://colab.research.google.com/notebooks/data_table.ipynb>data table notebook</a>'\n",
              "          + ' to learn more about interactive tables.';\n",
              "        element.innerHTML = '';\n",
              "        dataTable['output_type'] = 'display_data';\n",
              "        await google.colab.output.renderOutput(dataTable, element);\n",
              "        const docLink = document.createElement('div');\n",
              "        docLink.innerHTML = docLinkHtml;\n",
              "        element.appendChild(docLink);\n",
              "      }\n",
              "    </script>\n",
              "  </div>\n",
              "\n",
              "\n",
              "    <div id=\"df-cda2fa43-2898-4e1a-8505-80e66eb699e9\">\n",
              "      <button class=\"colab-df-quickchart\" onclick=\"quickchart('df-cda2fa43-2898-4e1a-8505-80e66eb699e9')\"\n",
              "                title=\"Suggest charts\"\n",
              "                style=\"display:none;\">\n",
              "\n",
              "<svg xmlns=\"http://www.w3.org/2000/svg\" height=\"24px\"viewBox=\"0 0 24 24\"\n",
              "     width=\"24px\">\n",
              "    <g>\n",
              "        <path d=\"M19 3H5c-1.1 0-2 .9-2 2v14c0 1.1.9 2 2 2h14c1.1 0 2-.9 2-2V5c0-1.1-.9-2-2-2zM9 17H7v-7h2v7zm4 0h-2V7h2v10zm4 0h-2v-4h2v4z\"/>\n",
              "    </g>\n",
              "</svg>\n",
              "      </button>\n",
              "\n",
              "<style>\n",
              "  .colab-df-quickchart {\n",
              "      --bg-color: #E8F0FE;\n",
              "      --fill-color: #1967D2;\n",
              "      --hover-bg-color: #E2EBFA;\n",
              "      --hover-fill-color: #174EA6;\n",
              "      --disabled-fill-color: #AAA;\n",
              "      --disabled-bg-color: #DDD;\n",
              "  }\n",
              "\n",
              "  [theme=dark] .colab-df-quickchart {\n",
              "      --bg-color: #3B4455;\n",
              "      --fill-color: #D2E3FC;\n",
              "      --hover-bg-color: #434B5C;\n",
              "      --hover-fill-color: #FFFFFF;\n",
              "      --disabled-bg-color: #3B4455;\n",
              "      --disabled-fill-color: #666;\n",
              "  }\n",
              "\n",
              "  .colab-df-quickchart {\n",
              "    background-color: var(--bg-color);\n",
              "    border: none;\n",
              "    border-radius: 50%;\n",
              "    cursor: pointer;\n",
              "    display: none;\n",
              "    fill: var(--fill-color);\n",
              "    height: 32px;\n",
              "    padding: 0;\n",
              "    width: 32px;\n",
              "  }\n",
              "\n",
              "  .colab-df-quickchart:hover {\n",
              "    background-color: var(--hover-bg-color);\n",
              "    box-shadow: 0 1px 2px rgba(60, 64, 67, 0.3), 0 1px 3px 1px rgba(60, 64, 67, 0.15);\n",
              "    fill: var(--button-hover-fill-color);\n",
              "  }\n",
              "\n",
              "  .colab-df-quickchart-complete:disabled,\n",
              "  .colab-df-quickchart-complete:disabled:hover {\n",
              "    background-color: var(--disabled-bg-color);\n",
              "    fill: var(--disabled-fill-color);\n",
              "    box-shadow: none;\n",
              "  }\n",
              "\n",
              "  .colab-df-spinner {\n",
              "    border: 2px solid var(--fill-color);\n",
              "    border-color: transparent;\n",
              "    border-bottom-color: var(--fill-color);\n",
              "    animation:\n",
              "      spin 1s steps(1) infinite;\n",
              "  }\n",
              "\n",
              "  @keyframes spin {\n",
              "    0% {\n",
              "      border-color: transparent;\n",
              "      border-bottom-color: var(--fill-color);\n",
              "      border-left-color: var(--fill-color);\n",
              "    }\n",
              "    20% {\n",
              "      border-color: transparent;\n",
              "      border-left-color: var(--fill-color);\n",
              "      border-top-color: var(--fill-color);\n",
              "    }\n",
              "    30% {\n",
              "      border-color: transparent;\n",
              "      border-left-color: var(--fill-color);\n",
              "      border-top-color: var(--fill-color);\n",
              "      border-right-color: var(--fill-color);\n",
              "    }\n",
              "    40% {\n",
              "      border-color: transparent;\n",
              "      border-right-color: var(--fill-color);\n",
              "      border-top-color: var(--fill-color);\n",
              "    }\n",
              "    60% {\n",
              "      border-color: transparent;\n",
              "      border-right-color: var(--fill-color);\n",
              "    }\n",
              "    80% {\n",
              "      border-color: transparent;\n",
              "      border-right-color: var(--fill-color);\n",
              "      border-bottom-color: var(--fill-color);\n",
              "    }\n",
              "    90% {\n",
              "      border-color: transparent;\n",
              "      border-bottom-color: var(--fill-color);\n",
              "    }\n",
              "  }\n",
              "</style>\n",
              "\n",
              "      <script>\n",
              "        async function quickchart(key) {\n",
              "          const quickchartButtonEl =\n",
              "            document.querySelector('#' + key + ' button');\n",
              "          quickchartButtonEl.disabled = true;  // To prevent multiple clicks.\n",
              "          quickchartButtonEl.classList.add('colab-df-spinner');\n",
              "          try {\n",
              "            const charts = await google.colab.kernel.invokeFunction(\n",
              "                'suggestCharts', [key], {});\n",
              "          } catch (error) {\n",
              "            console.error('Error during call to suggestCharts:', error);\n",
              "          }\n",
              "          quickchartButtonEl.classList.remove('colab-df-spinner');\n",
              "          quickchartButtonEl.classList.add('colab-df-quickchart-complete');\n",
              "        }\n",
              "        (() => {\n",
              "          let quickchartButtonEl =\n",
              "            document.querySelector('#df-cda2fa43-2898-4e1a-8505-80e66eb699e9 button');\n",
              "          quickchartButtonEl.style.display =\n",
              "            google.colab.kernel.accessAllowed ? 'block' : 'none';\n",
              "        })();\n",
              "      </script>\n",
              "    </div>\n",
              "\n",
              "    </div>\n",
              "  </div>\n"
            ],
            "application/vnd.google.colaboratory.intrinsic+json": {
              "type": "dataframe",
              "variable_name": "df"
            }
          },
          "metadata": {},
          "execution_count": 13
        }
      ]
    },
    {
      "cell_type": "code",
      "source": [
        "df.tail()"
      ],
      "metadata": {
        "colab": {
          "base_uri": "https://localhost:8080/",
          "height": 313
        },
        "id": "ieLGQkDd9r0P",
        "outputId": "de41a3b2-d90d-41dc-eaa1-b6db02408a61"
      },
      "execution_count": null,
      "outputs": [
        {
          "output_type": "execute_result",
          "data": {
            "text/plain": [
              "         index  airline  flight source_city departure_time stops arrival_time  \\\n",
              "300148  300148  Vistara  UK-822     Chennai        Morning   one      Evening   \n",
              "300149  300149  Vistara  UK-826     Chennai      Afternoon   one        Night   \n",
              "300150  300150  Vistara  UK-832     Chennai  Early_Morning   one        Night   \n",
              "300151  300151  Vistara  UK-828     Chennai  Early_Morning   one      Evening   \n",
              "300152  300152  Vistara  UK-822     Chennai        Morning   one      Evening   \n",
              "\n",
              "       destination_city     class  duration  days_left  price  \n",
              "300148        Hyderabad  Business     10.08         49  69265  \n",
              "300149        Hyderabad  Business     10.42         49  77105  \n",
              "300150        Hyderabad  Business     13.83         49  79099  \n",
              "300151        Hyderabad  Business     10.00         49  81585  \n",
              "300152        Hyderabad  Business     10.08         49  81585  "
            ],
            "text/html": [
              "\n",
              "  <div id=\"df-b1331db3-bfb9-47c5-8be4-844bffe3a084\" class=\"colab-df-container\">\n",
              "    <div>\n",
              "<style scoped>\n",
              "    .dataframe tbody tr th:only-of-type {\n",
              "        vertical-align: middle;\n",
              "    }\n",
              "\n",
              "    .dataframe tbody tr th {\n",
              "        vertical-align: top;\n",
              "    }\n",
              "\n",
              "    .dataframe thead th {\n",
              "        text-align: right;\n",
              "    }\n",
              "</style>\n",
              "<table border=\"1\" class=\"dataframe\">\n",
              "  <thead>\n",
              "    <tr style=\"text-align: right;\">\n",
              "      <th></th>\n",
              "      <th>index</th>\n",
              "      <th>airline</th>\n",
              "      <th>flight</th>\n",
              "      <th>source_city</th>\n",
              "      <th>departure_time</th>\n",
              "      <th>stops</th>\n",
              "      <th>arrival_time</th>\n",
              "      <th>destination_city</th>\n",
              "      <th>class</th>\n",
              "      <th>duration</th>\n",
              "      <th>days_left</th>\n",
              "      <th>price</th>\n",
              "    </tr>\n",
              "  </thead>\n",
              "  <tbody>\n",
              "    <tr>\n",
              "      <th>300148</th>\n",
              "      <td>300148</td>\n",
              "      <td>Vistara</td>\n",
              "      <td>UK-822</td>\n",
              "      <td>Chennai</td>\n",
              "      <td>Morning</td>\n",
              "      <td>one</td>\n",
              "      <td>Evening</td>\n",
              "      <td>Hyderabad</td>\n",
              "      <td>Business</td>\n",
              "      <td>10.08</td>\n",
              "      <td>49</td>\n",
              "      <td>69265</td>\n",
              "    </tr>\n",
              "    <tr>\n",
              "      <th>300149</th>\n",
              "      <td>300149</td>\n",
              "      <td>Vistara</td>\n",
              "      <td>UK-826</td>\n",
              "      <td>Chennai</td>\n",
              "      <td>Afternoon</td>\n",
              "      <td>one</td>\n",
              "      <td>Night</td>\n",
              "      <td>Hyderabad</td>\n",
              "      <td>Business</td>\n",
              "      <td>10.42</td>\n",
              "      <td>49</td>\n",
              "      <td>77105</td>\n",
              "    </tr>\n",
              "    <tr>\n",
              "      <th>300150</th>\n",
              "      <td>300150</td>\n",
              "      <td>Vistara</td>\n",
              "      <td>UK-832</td>\n",
              "      <td>Chennai</td>\n",
              "      <td>Early_Morning</td>\n",
              "      <td>one</td>\n",
              "      <td>Night</td>\n",
              "      <td>Hyderabad</td>\n",
              "      <td>Business</td>\n",
              "      <td>13.83</td>\n",
              "      <td>49</td>\n",
              "      <td>79099</td>\n",
              "    </tr>\n",
              "    <tr>\n",
              "      <th>300151</th>\n",
              "      <td>300151</td>\n",
              "      <td>Vistara</td>\n",
              "      <td>UK-828</td>\n",
              "      <td>Chennai</td>\n",
              "      <td>Early_Morning</td>\n",
              "      <td>one</td>\n",
              "      <td>Evening</td>\n",
              "      <td>Hyderabad</td>\n",
              "      <td>Business</td>\n",
              "      <td>10.00</td>\n",
              "      <td>49</td>\n",
              "      <td>81585</td>\n",
              "    </tr>\n",
              "    <tr>\n",
              "      <th>300152</th>\n",
              "      <td>300152</td>\n",
              "      <td>Vistara</td>\n",
              "      <td>UK-822</td>\n",
              "      <td>Chennai</td>\n",
              "      <td>Morning</td>\n",
              "      <td>one</td>\n",
              "      <td>Evening</td>\n",
              "      <td>Hyderabad</td>\n",
              "      <td>Business</td>\n",
              "      <td>10.08</td>\n",
              "      <td>49</td>\n",
              "      <td>81585</td>\n",
              "    </tr>\n",
              "  </tbody>\n",
              "</table>\n",
              "</div>\n",
              "    <div class=\"colab-df-buttons\">\n",
              "\n",
              "  <div class=\"colab-df-container\">\n",
              "    <button class=\"colab-df-convert\" onclick=\"convertToInteractive('df-b1331db3-bfb9-47c5-8be4-844bffe3a084')\"\n",
              "            title=\"Convert this dataframe to an interactive table.\"\n",
              "            style=\"display:none;\">\n",
              "\n",
              "  <svg xmlns=\"http://www.w3.org/2000/svg\" height=\"24px\" viewBox=\"0 -960 960 960\">\n",
              "    <path d=\"M120-120v-720h720v720H120Zm60-500h600v-160H180v160Zm220 220h160v-160H400v160Zm0 220h160v-160H400v160ZM180-400h160v-160H180v160Zm440 0h160v-160H620v160ZM180-180h160v-160H180v160Zm440 0h160v-160H620v160Z\"/>\n",
              "  </svg>\n",
              "    </button>\n",
              "\n",
              "  <style>\n",
              "    .colab-df-container {\n",
              "      display:flex;\n",
              "      gap: 12px;\n",
              "    }\n",
              "\n",
              "    .colab-df-convert {\n",
              "      background-color: #E8F0FE;\n",
              "      border: none;\n",
              "      border-radius: 50%;\n",
              "      cursor: pointer;\n",
              "      display: none;\n",
              "      fill: #1967D2;\n",
              "      height: 32px;\n",
              "      padding: 0 0 0 0;\n",
              "      width: 32px;\n",
              "    }\n",
              "\n",
              "    .colab-df-convert:hover {\n",
              "      background-color: #E2EBFA;\n",
              "      box-shadow: 0px 1px 2px rgba(60, 64, 67, 0.3), 0px 1px 3px 1px rgba(60, 64, 67, 0.15);\n",
              "      fill: #174EA6;\n",
              "    }\n",
              "\n",
              "    .colab-df-buttons div {\n",
              "      margin-bottom: 4px;\n",
              "    }\n",
              "\n",
              "    [theme=dark] .colab-df-convert {\n",
              "      background-color: #3B4455;\n",
              "      fill: #D2E3FC;\n",
              "    }\n",
              "\n",
              "    [theme=dark] .colab-df-convert:hover {\n",
              "      background-color: #434B5C;\n",
              "      box-shadow: 0px 1px 3px 1px rgba(0, 0, 0, 0.15);\n",
              "      filter: drop-shadow(0px 1px 2px rgba(0, 0, 0, 0.3));\n",
              "      fill: #FFFFFF;\n",
              "    }\n",
              "  </style>\n",
              "\n",
              "    <script>\n",
              "      const buttonEl =\n",
              "        document.querySelector('#df-b1331db3-bfb9-47c5-8be4-844bffe3a084 button.colab-df-convert');\n",
              "      buttonEl.style.display =\n",
              "        google.colab.kernel.accessAllowed ? 'block' : 'none';\n",
              "\n",
              "      async function convertToInteractive(key) {\n",
              "        const element = document.querySelector('#df-b1331db3-bfb9-47c5-8be4-844bffe3a084');\n",
              "        const dataTable =\n",
              "          await google.colab.kernel.invokeFunction('convertToInteractive',\n",
              "                                                    [key], {});\n",
              "        if (!dataTable) return;\n",
              "\n",
              "        const docLinkHtml = 'Like what you see? Visit the ' +\n",
              "          '<a target=\"_blank\" href=https://colab.research.google.com/notebooks/data_table.ipynb>data table notebook</a>'\n",
              "          + ' to learn more about interactive tables.';\n",
              "        element.innerHTML = '';\n",
              "        dataTable['output_type'] = 'display_data';\n",
              "        await google.colab.output.renderOutput(dataTable, element);\n",
              "        const docLink = document.createElement('div');\n",
              "        docLink.innerHTML = docLinkHtml;\n",
              "        element.appendChild(docLink);\n",
              "      }\n",
              "    </script>\n",
              "  </div>\n",
              "\n",
              "\n",
              "    <div id=\"df-705bda50-5e56-4e30-b767-e38ad2bff072\">\n",
              "      <button class=\"colab-df-quickchart\" onclick=\"quickchart('df-705bda50-5e56-4e30-b767-e38ad2bff072')\"\n",
              "                title=\"Suggest charts\"\n",
              "                style=\"display:none;\">\n",
              "\n",
              "<svg xmlns=\"http://www.w3.org/2000/svg\" height=\"24px\"viewBox=\"0 0 24 24\"\n",
              "     width=\"24px\">\n",
              "    <g>\n",
              "        <path d=\"M19 3H5c-1.1 0-2 .9-2 2v14c0 1.1.9 2 2 2h14c1.1 0 2-.9 2-2V5c0-1.1-.9-2-2-2zM9 17H7v-7h2v7zm4 0h-2V7h2v10zm4 0h-2v-4h2v4z\"/>\n",
              "    </g>\n",
              "</svg>\n",
              "      </button>\n",
              "\n",
              "<style>\n",
              "  .colab-df-quickchart {\n",
              "      --bg-color: #E8F0FE;\n",
              "      --fill-color: #1967D2;\n",
              "      --hover-bg-color: #E2EBFA;\n",
              "      --hover-fill-color: #174EA6;\n",
              "      --disabled-fill-color: #AAA;\n",
              "      --disabled-bg-color: #DDD;\n",
              "  }\n",
              "\n",
              "  [theme=dark] .colab-df-quickchart {\n",
              "      --bg-color: #3B4455;\n",
              "      --fill-color: #D2E3FC;\n",
              "      --hover-bg-color: #434B5C;\n",
              "      --hover-fill-color: #FFFFFF;\n",
              "      --disabled-bg-color: #3B4455;\n",
              "      --disabled-fill-color: #666;\n",
              "  }\n",
              "\n",
              "  .colab-df-quickchart {\n",
              "    background-color: var(--bg-color);\n",
              "    border: none;\n",
              "    border-radius: 50%;\n",
              "    cursor: pointer;\n",
              "    display: none;\n",
              "    fill: var(--fill-color);\n",
              "    height: 32px;\n",
              "    padding: 0;\n",
              "    width: 32px;\n",
              "  }\n",
              "\n",
              "  .colab-df-quickchart:hover {\n",
              "    background-color: var(--hover-bg-color);\n",
              "    box-shadow: 0 1px 2px rgba(60, 64, 67, 0.3), 0 1px 3px 1px rgba(60, 64, 67, 0.15);\n",
              "    fill: var(--button-hover-fill-color);\n",
              "  }\n",
              "\n",
              "  .colab-df-quickchart-complete:disabled,\n",
              "  .colab-df-quickchart-complete:disabled:hover {\n",
              "    background-color: var(--disabled-bg-color);\n",
              "    fill: var(--disabled-fill-color);\n",
              "    box-shadow: none;\n",
              "  }\n",
              "\n",
              "  .colab-df-spinner {\n",
              "    border: 2px solid var(--fill-color);\n",
              "    border-color: transparent;\n",
              "    border-bottom-color: var(--fill-color);\n",
              "    animation:\n",
              "      spin 1s steps(1) infinite;\n",
              "  }\n",
              "\n",
              "  @keyframes spin {\n",
              "    0% {\n",
              "      border-color: transparent;\n",
              "      border-bottom-color: var(--fill-color);\n",
              "      border-left-color: var(--fill-color);\n",
              "    }\n",
              "    20% {\n",
              "      border-color: transparent;\n",
              "      border-left-color: var(--fill-color);\n",
              "      border-top-color: var(--fill-color);\n",
              "    }\n",
              "    30% {\n",
              "      border-color: transparent;\n",
              "      border-left-color: var(--fill-color);\n",
              "      border-top-color: var(--fill-color);\n",
              "      border-right-color: var(--fill-color);\n",
              "    }\n",
              "    40% {\n",
              "      border-color: transparent;\n",
              "      border-right-color: var(--fill-color);\n",
              "      border-top-color: var(--fill-color);\n",
              "    }\n",
              "    60% {\n",
              "      border-color: transparent;\n",
              "      border-right-color: var(--fill-color);\n",
              "    }\n",
              "    80% {\n",
              "      border-color: transparent;\n",
              "      border-right-color: var(--fill-color);\n",
              "      border-bottom-color: var(--fill-color);\n",
              "    }\n",
              "    90% {\n",
              "      border-color: transparent;\n",
              "      border-bottom-color: var(--fill-color);\n",
              "    }\n",
              "  }\n",
              "</style>\n",
              "\n",
              "      <script>\n",
              "        async function quickchart(key) {\n",
              "          const quickchartButtonEl =\n",
              "            document.querySelector('#' + key + ' button');\n",
              "          quickchartButtonEl.disabled = true;  // To prevent multiple clicks.\n",
              "          quickchartButtonEl.classList.add('colab-df-spinner');\n",
              "          try {\n",
              "            const charts = await google.colab.kernel.invokeFunction(\n",
              "                'suggestCharts', [key], {});\n",
              "          } catch (error) {\n",
              "            console.error('Error during call to suggestCharts:', error);\n",
              "          }\n",
              "          quickchartButtonEl.classList.remove('colab-df-spinner');\n",
              "          quickchartButtonEl.classList.add('colab-df-quickchart-complete');\n",
              "        }\n",
              "        (() => {\n",
              "          let quickchartButtonEl =\n",
              "            document.querySelector('#df-705bda50-5e56-4e30-b767-e38ad2bff072 button');\n",
              "          quickchartButtonEl.style.display =\n",
              "            google.colab.kernel.accessAllowed ? 'block' : 'none';\n",
              "        })();\n",
              "      </script>\n",
              "    </div>\n",
              "\n",
              "    </div>\n",
              "  </div>\n"
            ],
            "application/vnd.google.colaboratory.intrinsic+json": {
              "type": "dataframe",
              "summary": "{\n  \"name\": \"df\",\n  \"rows\": 5,\n  \"fields\": [\n    {\n      \"column\": \"index\",\n      \"properties\": {\n        \"dtype\": \"number\",\n        \"std\": 1,\n        \"min\": 300148,\n        \"max\": 300152,\n        \"num_unique_values\": 5,\n        \"samples\": [\n          300149,\n          300152,\n          300150\n        ],\n        \"semantic_type\": \"\",\n        \"description\": \"\"\n      }\n    },\n    {\n      \"column\": \"airline\",\n      \"properties\": {\n        \"dtype\": \"category\",\n        \"num_unique_values\": 1,\n        \"samples\": [\n          \"Vistara\"\n        ],\n        \"semantic_type\": \"\",\n        \"description\": \"\"\n      }\n    },\n    {\n      \"column\": \"flight\",\n      \"properties\": {\n        \"dtype\": \"string\",\n        \"num_unique_values\": 4,\n        \"samples\": [\n          \"UK-826\"\n        ],\n        \"semantic_type\": \"\",\n        \"description\": \"\"\n      }\n    },\n    {\n      \"column\": \"source_city\",\n      \"properties\": {\n        \"dtype\": \"category\",\n        \"num_unique_values\": 1,\n        \"samples\": [\n          \"Chennai\"\n        ],\n        \"semantic_type\": \"\",\n        \"description\": \"\"\n      }\n    },\n    {\n      \"column\": \"departure_time\",\n      \"properties\": {\n        \"dtype\": \"string\",\n        \"num_unique_values\": 3,\n        \"samples\": [\n          \"Morning\"\n        ],\n        \"semantic_type\": \"\",\n        \"description\": \"\"\n      }\n    },\n    {\n      \"column\": \"stops\",\n      \"properties\": {\n        \"dtype\": \"category\",\n        \"num_unique_values\": 1,\n        \"samples\": [\n          \"one\"\n        ],\n        \"semantic_type\": \"\",\n        \"description\": \"\"\n      }\n    },\n    {\n      \"column\": \"arrival_time\",\n      \"properties\": {\n        \"dtype\": \"category\",\n        \"num_unique_values\": 2,\n        \"samples\": [\n          \"Night\"\n        ],\n        \"semantic_type\": \"\",\n        \"description\": \"\"\n      }\n    },\n    {\n      \"column\": \"destination_city\",\n      \"properties\": {\n        \"dtype\": \"category\",\n        \"num_unique_values\": 1,\n        \"samples\": [\n          \"Hyderabad\"\n        ],\n        \"semantic_type\": \"\",\n        \"description\": \"\"\n      }\n    },\n    {\n      \"column\": \"class\",\n      \"properties\": {\n        \"dtype\": \"category\",\n        \"num_unique_values\": 1,\n        \"samples\": [\n          \"Business\"\n        ],\n        \"semantic_type\": \"\",\n        \"description\": \"\"\n      }\n    },\n    {\n      \"column\": \"duration\",\n      \"properties\": {\n        \"dtype\": \"number\",\n        \"std\": 1.6559347813244336,\n        \"min\": 10.0,\n        \"max\": 13.83,\n        \"num_unique_values\": 4,\n        \"samples\": [\n          10.42\n        ],\n        \"semantic_type\": \"\",\n        \"description\": \"\"\n      }\n    },\n    {\n      \"column\": \"days_left\",\n      \"properties\": {\n        \"dtype\": \"number\",\n        \"std\": 0,\n        \"min\": 49,\n        \"max\": 49,\n        \"num_unique_values\": 1,\n        \"samples\": [\n          49\n        ],\n        \"semantic_type\": \"\",\n        \"description\": \"\"\n      }\n    },\n    {\n      \"column\": \"price\",\n      \"properties\": {\n        \"dtype\": \"number\",\n        \"std\": 5090,\n        \"min\": 69265,\n        \"max\": 81585,\n        \"num_unique_values\": 4,\n        \"samples\": [\n          77105\n        ],\n        \"semantic_type\": \"\",\n        \"description\": \"\"\n      }\n    }\n  ]\n}"
            }
          },
          "metadata": {},
          "execution_count": 12
        }
      ]
    },
    {
      "cell_type": "markdown",
      "source": [
        "### States summary for numerical columns"
      ],
      "metadata": {
        "id": "4--80r4S6uy8"
      }
    },
    {
      "cell_type": "code",
      "source": [
        "df.describe()"
      ],
      "metadata": {
        "colab": {
          "base_uri": "https://localhost:8080/",
          "height": 300
        },
        "id": "CPe-BmGi60kX",
        "outputId": "575d0142-1397-401e-c7db-9f9434fc4d9b"
      },
      "execution_count": null,
      "outputs": [
        {
          "output_type": "execute_result",
          "data": {
            "text/plain": [
              "               index       duration      days_left          price\n",
              "count  300153.000000  300153.000000  300153.000000  300153.000000\n",
              "mean   150076.000000      12.221021      26.004751   20889.660523\n",
              "std     86646.852011       7.191997      13.561004   22697.767366\n",
              "min         0.000000       0.830000       1.000000    1105.000000\n",
              "25%     75038.000000       6.830000      15.000000    4783.000000\n",
              "50%    150076.000000      11.250000      26.000000    7425.000000\n",
              "75%    225114.000000      16.170000      38.000000   42521.000000\n",
              "max    300152.000000      49.830000      49.000000  123071.000000"
            ],
            "text/html": [
              "\n",
              "  <div id=\"df-c8b562aa-0a26-4823-9670-1ae7c937f438\" class=\"colab-df-container\">\n",
              "    <div>\n",
              "<style scoped>\n",
              "    .dataframe tbody tr th:only-of-type {\n",
              "        vertical-align: middle;\n",
              "    }\n",
              "\n",
              "    .dataframe tbody tr th {\n",
              "        vertical-align: top;\n",
              "    }\n",
              "\n",
              "    .dataframe thead th {\n",
              "        text-align: right;\n",
              "    }\n",
              "</style>\n",
              "<table border=\"1\" class=\"dataframe\">\n",
              "  <thead>\n",
              "    <tr style=\"text-align: right;\">\n",
              "      <th></th>\n",
              "      <th>index</th>\n",
              "      <th>duration</th>\n",
              "      <th>days_left</th>\n",
              "      <th>price</th>\n",
              "    </tr>\n",
              "  </thead>\n",
              "  <tbody>\n",
              "    <tr>\n",
              "      <th>count</th>\n",
              "      <td>300153.000000</td>\n",
              "      <td>300153.000000</td>\n",
              "      <td>300153.000000</td>\n",
              "      <td>300153.000000</td>\n",
              "    </tr>\n",
              "    <tr>\n",
              "      <th>mean</th>\n",
              "      <td>150076.000000</td>\n",
              "      <td>12.221021</td>\n",
              "      <td>26.004751</td>\n",
              "      <td>20889.660523</td>\n",
              "    </tr>\n",
              "    <tr>\n",
              "      <th>std</th>\n",
              "      <td>86646.852011</td>\n",
              "      <td>7.191997</td>\n",
              "      <td>13.561004</td>\n",
              "      <td>22697.767366</td>\n",
              "    </tr>\n",
              "    <tr>\n",
              "      <th>min</th>\n",
              "      <td>0.000000</td>\n",
              "      <td>0.830000</td>\n",
              "      <td>1.000000</td>\n",
              "      <td>1105.000000</td>\n",
              "    </tr>\n",
              "    <tr>\n",
              "      <th>25%</th>\n",
              "      <td>75038.000000</td>\n",
              "      <td>6.830000</td>\n",
              "      <td>15.000000</td>\n",
              "      <td>4783.000000</td>\n",
              "    </tr>\n",
              "    <tr>\n",
              "      <th>50%</th>\n",
              "      <td>150076.000000</td>\n",
              "      <td>11.250000</td>\n",
              "      <td>26.000000</td>\n",
              "      <td>7425.000000</td>\n",
              "    </tr>\n",
              "    <tr>\n",
              "      <th>75%</th>\n",
              "      <td>225114.000000</td>\n",
              "      <td>16.170000</td>\n",
              "      <td>38.000000</td>\n",
              "      <td>42521.000000</td>\n",
              "    </tr>\n",
              "    <tr>\n",
              "      <th>max</th>\n",
              "      <td>300152.000000</td>\n",
              "      <td>49.830000</td>\n",
              "      <td>49.000000</td>\n",
              "      <td>123071.000000</td>\n",
              "    </tr>\n",
              "  </tbody>\n",
              "</table>\n",
              "</div>\n",
              "    <div class=\"colab-df-buttons\">\n",
              "\n",
              "  <div class=\"colab-df-container\">\n",
              "    <button class=\"colab-df-convert\" onclick=\"convertToInteractive('df-c8b562aa-0a26-4823-9670-1ae7c937f438')\"\n",
              "            title=\"Convert this dataframe to an interactive table.\"\n",
              "            style=\"display:none;\">\n",
              "\n",
              "  <svg xmlns=\"http://www.w3.org/2000/svg\" height=\"24px\" viewBox=\"0 -960 960 960\">\n",
              "    <path d=\"M120-120v-720h720v720H120Zm60-500h600v-160H180v160Zm220 220h160v-160H400v160Zm0 220h160v-160H400v160ZM180-400h160v-160H180v160Zm440 0h160v-160H620v160ZM180-180h160v-160H180v160Zm440 0h160v-160H620v160Z\"/>\n",
              "  </svg>\n",
              "    </button>\n",
              "\n",
              "  <style>\n",
              "    .colab-df-container {\n",
              "      display:flex;\n",
              "      gap: 12px;\n",
              "    }\n",
              "\n",
              "    .colab-df-convert {\n",
              "      background-color: #E8F0FE;\n",
              "      border: none;\n",
              "      border-radius: 50%;\n",
              "      cursor: pointer;\n",
              "      display: none;\n",
              "      fill: #1967D2;\n",
              "      height: 32px;\n",
              "      padding: 0 0 0 0;\n",
              "      width: 32px;\n",
              "    }\n",
              "\n",
              "    .colab-df-convert:hover {\n",
              "      background-color: #E2EBFA;\n",
              "      box-shadow: 0px 1px 2px rgba(60, 64, 67, 0.3), 0px 1px 3px 1px rgba(60, 64, 67, 0.15);\n",
              "      fill: #174EA6;\n",
              "    }\n",
              "\n",
              "    .colab-df-buttons div {\n",
              "      margin-bottom: 4px;\n",
              "    }\n",
              "\n",
              "    [theme=dark] .colab-df-convert {\n",
              "      background-color: #3B4455;\n",
              "      fill: #D2E3FC;\n",
              "    }\n",
              "\n",
              "    [theme=dark] .colab-df-convert:hover {\n",
              "      background-color: #434B5C;\n",
              "      box-shadow: 0px 1px 3px 1px rgba(0, 0, 0, 0.15);\n",
              "      filter: drop-shadow(0px 1px 2px rgba(0, 0, 0, 0.3));\n",
              "      fill: #FFFFFF;\n",
              "    }\n",
              "  </style>\n",
              "\n",
              "    <script>\n",
              "      const buttonEl =\n",
              "        document.querySelector('#df-c8b562aa-0a26-4823-9670-1ae7c937f438 button.colab-df-convert');\n",
              "      buttonEl.style.display =\n",
              "        google.colab.kernel.accessAllowed ? 'block' : 'none';\n",
              "\n",
              "      async function convertToInteractive(key) {\n",
              "        const element = document.querySelector('#df-c8b562aa-0a26-4823-9670-1ae7c937f438');\n",
              "        const dataTable =\n",
              "          await google.colab.kernel.invokeFunction('convertToInteractive',\n",
              "                                                    [key], {});\n",
              "        if (!dataTable) return;\n",
              "\n",
              "        const docLinkHtml = 'Like what you see? Visit the ' +\n",
              "          '<a target=\"_blank\" href=https://colab.research.google.com/notebooks/data_table.ipynb>data table notebook</a>'\n",
              "          + ' to learn more about interactive tables.';\n",
              "        element.innerHTML = '';\n",
              "        dataTable['output_type'] = 'display_data';\n",
              "        await google.colab.output.renderOutput(dataTable, element);\n",
              "        const docLink = document.createElement('div');\n",
              "        docLink.innerHTML = docLinkHtml;\n",
              "        element.appendChild(docLink);\n",
              "      }\n",
              "    </script>\n",
              "  </div>\n",
              "\n",
              "\n",
              "    <div id=\"df-a5247bcb-ace3-4df5-8870-8c3d30be8505\">\n",
              "      <button class=\"colab-df-quickchart\" onclick=\"quickchart('df-a5247bcb-ace3-4df5-8870-8c3d30be8505')\"\n",
              "                title=\"Suggest charts\"\n",
              "                style=\"display:none;\">\n",
              "\n",
              "<svg xmlns=\"http://www.w3.org/2000/svg\" height=\"24px\"viewBox=\"0 0 24 24\"\n",
              "     width=\"24px\">\n",
              "    <g>\n",
              "        <path d=\"M19 3H5c-1.1 0-2 .9-2 2v14c0 1.1.9 2 2 2h14c1.1 0 2-.9 2-2V5c0-1.1-.9-2-2-2zM9 17H7v-7h2v7zm4 0h-2V7h2v10zm4 0h-2v-4h2v4z\"/>\n",
              "    </g>\n",
              "</svg>\n",
              "      </button>\n",
              "\n",
              "<style>\n",
              "  .colab-df-quickchart {\n",
              "      --bg-color: #E8F0FE;\n",
              "      --fill-color: #1967D2;\n",
              "      --hover-bg-color: #E2EBFA;\n",
              "      --hover-fill-color: #174EA6;\n",
              "      --disabled-fill-color: #AAA;\n",
              "      --disabled-bg-color: #DDD;\n",
              "  }\n",
              "\n",
              "  [theme=dark] .colab-df-quickchart {\n",
              "      --bg-color: #3B4455;\n",
              "      --fill-color: #D2E3FC;\n",
              "      --hover-bg-color: #434B5C;\n",
              "      --hover-fill-color: #FFFFFF;\n",
              "      --disabled-bg-color: #3B4455;\n",
              "      --disabled-fill-color: #666;\n",
              "  }\n",
              "\n",
              "  .colab-df-quickchart {\n",
              "    background-color: var(--bg-color);\n",
              "    border: none;\n",
              "    border-radius: 50%;\n",
              "    cursor: pointer;\n",
              "    display: none;\n",
              "    fill: var(--fill-color);\n",
              "    height: 32px;\n",
              "    padding: 0;\n",
              "    width: 32px;\n",
              "  }\n",
              "\n",
              "  .colab-df-quickchart:hover {\n",
              "    background-color: var(--hover-bg-color);\n",
              "    box-shadow: 0 1px 2px rgba(60, 64, 67, 0.3), 0 1px 3px 1px rgba(60, 64, 67, 0.15);\n",
              "    fill: var(--button-hover-fill-color);\n",
              "  }\n",
              "\n",
              "  .colab-df-quickchart-complete:disabled,\n",
              "  .colab-df-quickchart-complete:disabled:hover {\n",
              "    background-color: var(--disabled-bg-color);\n",
              "    fill: var(--disabled-fill-color);\n",
              "    box-shadow: none;\n",
              "  }\n",
              "\n",
              "  .colab-df-spinner {\n",
              "    border: 2px solid var(--fill-color);\n",
              "    border-color: transparent;\n",
              "    border-bottom-color: var(--fill-color);\n",
              "    animation:\n",
              "      spin 1s steps(1) infinite;\n",
              "  }\n",
              "\n",
              "  @keyframes spin {\n",
              "    0% {\n",
              "      border-color: transparent;\n",
              "      border-bottom-color: var(--fill-color);\n",
              "      border-left-color: var(--fill-color);\n",
              "    }\n",
              "    20% {\n",
              "      border-color: transparent;\n",
              "      border-left-color: var(--fill-color);\n",
              "      border-top-color: var(--fill-color);\n",
              "    }\n",
              "    30% {\n",
              "      border-color: transparent;\n",
              "      border-left-color: var(--fill-color);\n",
              "      border-top-color: var(--fill-color);\n",
              "      border-right-color: var(--fill-color);\n",
              "    }\n",
              "    40% {\n",
              "      border-color: transparent;\n",
              "      border-right-color: var(--fill-color);\n",
              "      border-top-color: var(--fill-color);\n",
              "    }\n",
              "    60% {\n",
              "      border-color: transparent;\n",
              "      border-right-color: var(--fill-color);\n",
              "    }\n",
              "    80% {\n",
              "      border-color: transparent;\n",
              "      border-right-color: var(--fill-color);\n",
              "      border-bottom-color: var(--fill-color);\n",
              "    }\n",
              "    90% {\n",
              "      border-color: transparent;\n",
              "      border-bottom-color: var(--fill-color);\n",
              "    }\n",
              "  }\n",
              "</style>\n",
              "\n",
              "      <script>\n",
              "        async function quickchart(key) {\n",
              "          const quickchartButtonEl =\n",
              "            document.querySelector('#' + key + ' button');\n",
              "          quickchartButtonEl.disabled = true;  // To prevent multiple clicks.\n",
              "          quickchartButtonEl.classList.add('colab-df-spinner');\n",
              "          try {\n",
              "            const charts = await google.colab.kernel.invokeFunction(\n",
              "                'suggestCharts', [key], {});\n",
              "          } catch (error) {\n",
              "            console.error('Error during call to suggestCharts:', error);\n",
              "          }\n",
              "          quickchartButtonEl.classList.remove('colab-df-spinner');\n",
              "          quickchartButtonEl.classList.add('colab-df-quickchart-complete');\n",
              "        }\n",
              "        (() => {\n",
              "          let quickchartButtonEl =\n",
              "            document.querySelector('#df-a5247bcb-ace3-4df5-8870-8c3d30be8505 button');\n",
              "          quickchartButtonEl.style.display =\n",
              "            google.colab.kernel.accessAllowed ? 'block' : 'none';\n",
              "        })();\n",
              "      </script>\n",
              "    </div>\n",
              "\n",
              "    </div>\n",
              "  </div>\n"
            ],
            "application/vnd.google.colaboratory.intrinsic+json": {
              "type": "dataframe",
              "summary": "{\n  \"name\": \"df\",\n  \"rows\": 8,\n  \"fields\": [\n    {\n      \"column\": \"index\",\n      \"properties\": {\n        \"dtype\": \"number\",\n        \"std\": 108176.37443497643,\n        \"min\": 0.0,\n        \"max\": 300153.0,\n        \"num_unique_values\": 7,\n        \"samples\": [\n          300153.0,\n          150076.0,\n          225114.0\n        ],\n        \"semantic_type\": \"\",\n        \"description\": \"\"\n      }\n    },\n    {\n      \"column\": \"duration\",\n      \"properties\": {\n        \"dtype\": \"number\",\n        \"std\": 106114.84279188853,\n        \"min\": 0.83,\n        \"max\": 300153.0,\n        \"num_unique_values\": 8,\n        \"samples\": [\n          12.221020812718846,\n          11.25,\n          300153.0\n        ],\n        \"semantic_type\": \"\",\n        \"description\": \"\"\n      }\n    },\n    {\n      \"column\": \"days_left\",\n      \"properties\": {\n        \"dtype\": \"number\",\n        \"std\": 106111.59803243961,\n        \"min\": 1.0,\n        \"max\": 300153.0,\n        \"num_unique_values\": 8,\n        \"samples\": [\n          26.004750910369044,\n          26.0,\n          300153.0\n        ],\n        \"semantic_type\": \"\",\n        \"description\": \"\"\n      }\n    },\n    {\n      \"column\": \"price\",\n      \"properties\": {\n        \"dtype\": \"number\",\n        \"std\": 102770.44098272717,\n        \"min\": 1105.0,\n        \"max\": 300153.0,\n        \"num_unique_values\": 8,\n        \"samples\": [\n          20889.660523133203,\n          7425.0,\n          300153.0\n        ],\n        \"semantic_type\": \"\",\n        \"description\": \"\"\n      }\n    }\n  ]\n}"
            }
          },
          "metadata": {},
          "execution_count": 58
        }
      ]
    },
    {
      "cell_type": "markdown",
      "source": [
        "### LIST OF ALL COLUMNS"
      ],
      "metadata": {
        "id": "FcGgJNgB9Ngw"
      }
    },
    {
      "cell_type": "code",
      "source": [
        "df.columns"
      ],
      "metadata": {
        "colab": {
          "base_uri": "https://localhost:8080/"
        },
        "id": "hAiUqn90-H4t",
        "outputId": "b113edd2-2fb4-4f80-cc83-ad1bf0548054"
      },
      "execution_count": null,
      "outputs": [
        {
          "output_type": "execute_result",
          "data": {
            "text/plain": [
              "Index(['index', 'airline', 'flight', 'source_city', 'departure_time', 'stops',\n",
              "       'arrival_time', 'destination_city', 'class', 'duration', 'days_left',\n",
              "       'price'],\n",
              "      dtype='object')"
            ]
          },
          "metadata": {},
          "execution_count": 14
        }
      ]
    },
    {
      "cell_type": "markdown",
      "source": [
        "### COLUMNS DATATYPE"
      ],
      "metadata": {
        "id": "gj4hiTRP68fQ"
      }
    },
    {
      "cell_type": "code",
      "source": [
        "df.dtypes"
      ],
      "metadata": {
        "colab": {
          "base_uri": "https://localhost:8080/",
          "height": 460
        },
        "id": "LIOURVAy-ogU",
        "outputId": "a4c8fc4d-9338-4cfc-e954-cee655314d9d"
      },
      "execution_count": null,
      "outputs": [
        {
          "output_type": "execute_result",
          "data": {
            "text/plain": [
              "index                 int64\n",
              "airline              object\n",
              "flight               object\n",
              "source_city          object\n",
              "departure_time       object\n",
              "stops                object\n",
              "arrival_time         object\n",
              "destination_city     object\n",
              "class                object\n",
              "duration            float64\n",
              "days_left             int64\n",
              "price                 int64\n",
              "dtype: object"
            ],
            "text/html": [
              "<div>\n",
              "<style scoped>\n",
              "    .dataframe tbody tr th:only-of-type {\n",
              "        vertical-align: middle;\n",
              "    }\n",
              "\n",
              "    .dataframe tbody tr th {\n",
              "        vertical-align: top;\n",
              "    }\n",
              "\n",
              "    .dataframe thead th {\n",
              "        text-align: right;\n",
              "    }\n",
              "</style>\n",
              "<table border=\"1\" class=\"dataframe\">\n",
              "  <thead>\n",
              "    <tr style=\"text-align: right;\">\n",
              "      <th></th>\n",
              "      <th>0</th>\n",
              "    </tr>\n",
              "  </thead>\n",
              "  <tbody>\n",
              "    <tr>\n",
              "      <th>index</th>\n",
              "      <td>int64</td>\n",
              "    </tr>\n",
              "    <tr>\n",
              "      <th>airline</th>\n",
              "      <td>object</td>\n",
              "    </tr>\n",
              "    <tr>\n",
              "      <th>flight</th>\n",
              "      <td>object</td>\n",
              "    </tr>\n",
              "    <tr>\n",
              "      <th>source_city</th>\n",
              "      <td>object</td>\n",
              "    </tr>\n",
              "    <tr>\n",
              "      <th>departure_time</th>\n",
              "      <td>object</td>\n",
              "    </tr>\n",
              "    <tr>\n",
              "      <th>stops</th>\n",
              "      <td>object</td>\n",
              "    </tr>\n",
              "    <tr>\n",
              "      <th>arrival_time</th>\n",
              "      <td>object</td>\n",
              "    </tr>\n",
              "    <tr>\n",
              "      <th>destination_city</th>\n",
              "      <td>object</td>\n",
              "    </tr>\n",
              "    <tr>\n",
              "      <th>class</th>\n",
              "      <td>object</td>\n",
              "    </tr>\n",
              "    <tr>\n",
              "      <th>duration</th>\n",
              "      <td>float64</td>\n",
              "    </tr>\n",
              "    <tr>\n",
              "      <th>days_left</th>\n",
              "      <td>int64</td>\n",
              "    </tr>\n",
              "    <tr>\n",
              "      <th>price</th>\n",
              "      <td>int64</td>\n",
              "    </tr>\n",
              "  </tbody>\n",
              "</table>\n",
              "</div><br><label><b>dtype:</b> object</label>"
            ]
          },
          "metadata": {},
          "execution_count": 15
        }
      ]
    },
    {
      "cell_type": "markdown",
      "source": [
        "### MISSING VALUES"
      ],
      "metadata": {
        "id": "ybuh4TBo-5jr"
      }
    },
    {
      "cell_type": "code",
      "source": [
        "df.isnull().sum()\n",
        "df.isnull().mean()*100\n",
        "\n",
        "# Visualize missing data\n",
        "sns.heatmap(df.isnull(), cbar=False)\n",
        "plt.title(\"Missing Data Heatmap\")\n",
        "plt.show()"
      ],
      "metadata": {
        "colab": {
          "base_uri": "https://localhost:8080/",
          "height": 548
        },
        "id": "j_Rt9ewS--G-",
        "outputId": "0ccc6ca8-1490-40b1-c746-f0cd6fcaa53f"
      },
      "execution_count": null,
      "outputs": [
        {
          "output_type": "display_data",
          "data": {
            "text/plain": [
              "<Figure size 640x480 with 1 Axes>"
            ],
            "image/png": "[encoded data removed]"
          },
          "metadata": {}
        }
      ]
    },
    {
      "cell_type": "markdown",
      "source": [
        "#**QUESTIONS TO EXPLORE**"
      ],
      "metadata": {
        "id": "kEVhLvwfKHoJ"
      }
    },
    {
      "cell_type": "markdown",
      "source": [
        "- **Which airline is the most expensive on average?**\n",
        "  - Purpose : Compare pricing\n",
        "- **How does price vary with the number of stops?**\n",
        "  - Purpose : Analyze stop-wise trends\n",
        "- **Does booking earlier result in cheaper tickets?**\n",
        "  - Purpose : Days left vs price\n",
        "- **Which city pairs have the highest average price?**\n",
        "  - Purpose : Source-Destination pricing\n",
        "- **Are morning flights cheaper than evening flights?**\n",
        "  - Purpose : Time of departure vs price\n",
        "- **Does travel class (Economy vs Business) significantly affect price?**\n",
        "  - Purpose : Class vs pricing\n",
        "- **Do some airlines have longer average durations for the same route?**\n",
        "  - Purpose : Duration analysis\n",
        "- **Are there any anomalies (outliers) in price or duration?**\n",
        "  - Purpose : Detect outliers\n",
        "\n"
      ],
      "metadata": {
        "id": "KMPcW9h4LAxZ"
      }
    },
    {
      "cell_type": "markdown",
      "source": [
        "# **UNIVARIATE ANALYSIS :**"
      ],
      "metadata": {
        "id": "FKUcWjLQRXVX"
      }
    },
    {
      "cell_type": "markdown",
      "source": [
        "## **Average price per Airline**"
      ],
      "metadata": {
        "id": "_6ujm6GzR6M_"
      }
    },
    {
      "cell_type": "code",
      "source": [
        "print(\"\\nDescriptive Statistics for 'price' and 'duration':\")\n",
        "print(df[['price', 'duration']].describe())\n",
        "\n",
        "avg_price_per_airline = df.groupby('airline')['price'].mean().sort_values(ascending=False)\n",
        "print(\"\\nAverage Price by Airline:\\n\", avg_price_per_airline)"
      ],
      "metadata": {
        "colab": {
          "base_uri": "https://localhost:8080/"
        },
        "id": "Poz-ekDtRJ3s",
        "outputId": "f1278d3a-749e-445e-ea6e-ac4691c7e852"
      },
      "execution_count": null,
      "outputs": [
        {
          "output_type": "stream",
          "name": "stdout",
          "text": [
            "\n",
            "Descriptive Statistics for 'price' and 'duration':\n",
            "               price       duration\n",
            "count  300153.000000  300153.000000\n",
            "mean    20889.660523      12.221021\n",
            "std     22697.767366       7.191997\n",
            "min      1105.000000       0.830000\n",
            "25%      4783.000000       6.830000\n",
            "50%      7425.000000      11.250000\n",
            "75%     42521.000000      16.170000\n",
            "max    123071.000000      49.830000\n",
            "\n",
            "Average Price by Airline:\n",
            " airline\n",
            "Vistara      30396.536302\n",
            "Air_India    23507.019112\n",
            "SpiceJet      6179.278881\n",
            "GO_FIRST      5652.007595\n",
            "Indigo        5324.216303\n",
            "AirAsia       4091.072742\n",
            "Name: price, dtype: float64\n"
          ]
        }
      ]
    },
    {
      "cell_type": "markdown",
      "source": [
        "### Visuals through BARPLOT"
      ],
      "metadata": {
        "id": "Obiq61CESW2p"
      }
    },
    {
      "cell_type": "code",
      "source": [
        "sns.barplot(x=avg_price_per_airline.index, y=avg_price_per_airline.values , palette=\"mako\")\n",
        "plt.xlabel('Airline')\n",
        "plt.ylabel('Average Price')\n",
        "plt.title('Average Price by Airline')\n",
        "plt.xticks(rotation=90)\n"
      ],
      "metadata": {
        "colab": {
          "base_uri": "https://localhost:8080/",
          "height": 646
        },
        "id": "WUcITgG4SdoQ",
        "outputId": "265b17e7-0526-44ec-f9cd-a06ff3df74af"
      },
      "execution_count": null,
      "outputs": [
        {
          "output_type": "execute_result",
          "data": {
            "text/plain": [
              "([0, 1, 2, 3, 4, 5],\n",
              " [Text(0, 0, 'Vistara'),\n",
              "  Text(1, 0, 'Air_India'),\n",
              "  Text(2, 0, 'SpiceJet'),\n",
              "  Text(3, 0, 'GO_FIRST'),\n",
              "  Text(4, 0, 'Indigo'),\n",
              "  Text(5, 0, 'AirAsia')])"
            ]
          },
          "metadata": {},
          "execution_count": 21
        },
        {
          "output_type": "display_data",
          "data": {
            "text/plain": [
              "<Figure size 640x480 with 1 Axes>"
            ],
            "image/png": "[encoded data removed]"
          },
          "metadata": {}
        }
      ]
    },
    {
      "cell_type": "code",
      "source": [
        "from scipy.stats import skew, kurtosis\n",
        "print(\"Skewness of Price:\", skew(df['price']))\n",
        "print(\"Kurtosis of Price:\", kurtosis(df['price']))"
      ],
      "metadata": {
        "colab": {
          "base_uri": "https://localhost:8080/"
        },
        "id": "YQWfKNZBTztQ",
        "outputId": "c1309631-709a-4bf5-d689-2a0e9e6f0e0e"
      },
      "execution_count": null,
      "outputs": [
        {
          "output_type": "stream",
          "name": "stdout",
          "text": [
            "Skewness of Price: 1.0613719490179376\n",
            "Kurtosis of Price: -0.3963061069535949\n"
          ]
        }
      ]
    },
    {
      "cell_type": "markdown",
      "source": [
        "## **PRICE VS NUMBER OF STOPS :**"
      ],
      "metadata": {
        "id": "GlJz22McVzWk"
      }
    },
    {
      "cell_type": "code",
      "source": [
        "df.columns = df.columns.str.strip()\n",
        "stopwise_stats = df.groupby('stops')['price'].agg(['count', 'mean', 'median', 'min', 'max']).sort_values(by='mean', ascending=False)\n",
        "print(\"Stop-wise Ticket Price Statistics:\\n\")\n",
        "print(stopwise_stats)"
      ],
      "metadata": {
        "colab": {
          "base_uri": "https://localhost:8080/"
        },
        "id": "M3IwSTmWV_pt",
        "outputId": "aa8679b0-ef54-4ff1-b31d-be1984501f4d"
      },
      "execution_count": null,
      "outputs": [
        {
          "output_type": "stream",
          "name": "stdout",
          "text": [
            "Stop-wise Ticket Price Statistics:\n",
            "\n",
            "              count          mean  median   min     max\n",
            "stops                                                  \n",
            "one          250863  22900.992482  7959.0  1105  123071\n",
            "two_or_more   13286  14113.450775  8307.0  1966  117307\n",
            "zero          36004   9375.938535  4499.0  1105   59573\n"
          ]
        }
      ]
    },
    {
      "cell_type": "markdown",
      "source": [
        "### Visuals through Boxplot"
      ],
      "metadata": {
        "id": "ygJw4enbWFSF"
      }
    },
    {
      "cell_type": "code",
      "source": [
        "plt.figure(figsize=(8, 5))\n",
        "sns.boxplot(x='stops', y='price', data=df)\n",
        "plt.title('Price Distribution by Number of Stops')\n",
        "plt.xlabel('Number of Stops')\n",
        "plt.ylabel('Ticket Price (INR)')\n",
        "plt.grid(axis='y', linestyle='--', alpha=0.5)\n",
        "plt.tight_layout()\n",
        "plt.show()"
      ],
      "metadata": {
        "colab": {
          "base_uri": "https://localhost:8080/",
          "height": 507
        },
        "id": "_4OnRip7WPN7",
        "outputId": "2c8aa99b-cf17-4d2a-91ab-b0ad2bd3cac2"
      },
      "execution_count": null,
      "outputs": [
        {
          "output_type": "display_data",
          "data": {
            "text/plain": [
              "<Figure size 800x500 with 1 Axes>"
            ],
            "image/png": "[encoded data removed]"
          },
          "metadata": {}
        }
      ]
    },
    {
      "cell_type": "markdown",
      "source": [
        "## **DURATION ANALYSIS**"
      ],
      "metadata": {
        "id": "XW5UTOl9Yi9L"
      }
    },
    {
      "cell_type": "code",
      "source": [
        "df.columns = df.columns.str.strip()\n",
        "\n",
        "df['route'] = df['source_city'] + \" → \" + df['destination_city']\n",
        "\n",
        "\n",
        "route_duration_stats = df.groupby(['route', 'airline'])['duration'].agg(['count', 'mean', 'min', 'max']).reset_index()\n",
        "route_duration_stats = route_duration_stats.sort_values(by='mean', ascending=False)\n",
        "\n",
        "\n",
        "print(\"Top route-airline combinations with highest average durations:\")\n",
        "print(route_duration_stats.head(10))\n"
      ],
      "metadata": {
        "colab": {
          "base_uri": "https://localhost:8080/"
        },
        "id": "ajRoSljuY2Ge",
        "outputId": "a6ad9642-3178-4384-c1d5-16c5992808c7"
      },
      "execution_count": null,
      "outputs": [
        {
          "output_type": "stream",
          "name": "stdout",
          "text": [
            "Top route-airline combinations with highest average durations:\n",
            "                     route    airline  count       mean   min    max\n",
            "49       Chennai → Kolkata  Air_India   1869  17.867421  2.58  44.50\n",
            "129      Kolkata → Chennai    Vistara   2800  17.605375  5.50  33.67\n",
            "53       Chennai → Kolkata    Vistara   2949  17.568271  7.08  37.83\n",
            "31     Chennai → Bangalore  Air_India   1638  17.329274  1.00  49.83\n",
            "13   Bangalore → Hyderabad  Air_India   2228  17.226683  1.25  41.83\n",
            "119    Kolkata → Bangalore  Air_India   1959  17.169372  2.58  38.83\n",
            "108    Hyderabad → Kolkata  Air_India   2133  17.162757  2.08  42.00\n",
            "1      Bangalore → Chennai  Air_India   1610  17.029416  1.00  47.75\n",
            "19     Bangalore → Kolkata  Air_India   2026  16.937957  2.42  37.33\n",
            "137    Kolkata → Hyderabad  Air_India   2054  16.898325  2.25  39.83\n"
          ]
        }
      ]
    },
    {
      "cell_type": "markdown",
      "source": [
        "### Visuals through HISTOGRAM"
      ],
      "metadata": {
        "id": "iX4u6ANLZXf9"
      }
    },
    {
      "cell_type": "code",
      "source": [
        "sns.histplot(df['duration'], bins=20, kde=True ,color=\"red\")\n",
        "plt.title('Distribution of Flight Durations')\n",
        "plt.xlabel('Duration (minutes)')\n",
        "plt.ylabel('Frequency')"
      ],
      "metadata": {
        "colab": {
          "base_uri": "https://localhost:8080/",
          "height": 489
        },
        "id": "a5tpPK_1Zcxc",
        "outputId": "b01bd467-12a3-43a4-fc68-2b4580113b2b"
      },
      "execution_count": null,
      "outputs": [
        {
          "output_type": "execute_result",
          "data": {
            "text/plain": [
              "Text(0, 0.5, 'Frequency')"
            ]
          },
          "metadata": {},
          "execution_count": 64
        },
        {
          "output_type": "display_data",
          "data": {
            "text/plain": [
              "<Figure size 640x480 with 1 Axes>"
            ],
            "image/png": "[encoded data removed]"
          },
          "metadata": {}
        }
      ]
    },
    {
      "cell_type": "markdown",
      "source": [
        "# **BIVARIATE ANALYSIS**"
      ],
      "metadata": {
        "id": "tToXHPcpb4FT"
      }
    },
    {
      "cell_type": "markdown",
      "source": [
        "## **Class(ECONOMY VS BUSINESS) VS Price :**"
      ],
      "metadata": {
        "id": "J5aQj6Nzb-q1"
      }
    },
    {
      "cell_type": "code",
      "source": [
        "df.columns = df.columns.str.strip()\n",
        "\n",
        "class_price_stats = df.groupby('class')['price'].agg(['count', 'mean', 'median', 'min', 'max', 'std']).sort_values(by='mean', ascending=False)\n",
        "print(\"Price statistics by travel class:\\n\")\n",
        "print(class_price_stats)\n"
      ],
      "metadata": {
        "colab": {
          "base_uri": "https://localhost:8080/"
        },
        "id": "3Hqsx0CCccCf",
        "outputId": "98ff54af-dd21-4ae8-c3fd-dc474c8abeaf"
      },
      "execution_count": null,
      "outputs": [
        {
          "output_type": "stream",
          "name": "stdout",
          "text": [
            "Price statistics by travel class:\n",
            "\n",
            "           count          mean   median    min     max           std\n",
            "class                                                               \n",
            "Business   93487  52540.081124  53164.0  12000  123071  12969.314606\n",
            "Economy   206666   6572.342383   5772.0   1105   42349   3743.519517\n"
          ]
        }
      ]
    },
    {
      "cell_type": "markdown",
      "source": [
        "## Visuals through HEATMAP"
      ],
      "metadata": {
        "id": "fYngJBJZcj8m"
      }
    },
    {
      "cell_type": "code",
      "source": [
        "pivot_table = df.pivot_table(values='price', index='airline', columns='class', aggfunc='mean')\n",
        "\n",
        "plt.figure(figsize=(8, 6))\n",
        "sns.heatmap(pivot_table, annot=True, fmt=\".0f\", cmap='YlGnBu')\n",
        "plt.title('Average Ticket Price by Airline and Class')\n",
        "plt.xlabel('Travel Class')\n",
        "plt.ylabel('Airline')\n",
        "plt.tight_layout()\n",
        "plt.show()\n"
      ],
      "metadata": {
        "colab": {
          "base_uri": "https://localhost:8080/",
          "height": 607
        },
        "id": "ayFEEjesc39P",
        "outputId": "42c19814-b5c2-4d33-cb2a-339f4124b3a3"
      },
      "execution_count": null,
      "outputs": [
        {
          "output_type": "display_data",
          "data": {
            "text/plain": [
              "<Figure size 800x600 with 2 Axes>"
            ],
            "image/png": "[encoded data removed]"
          },
          "metadata": {}
        }
      ]
    },
    {
      "cell_type": "markdown",
      "source": [
        "## **Days left VS Price :**"
      ],
      "metadata": {
        "id": "Fehy6IGUd4pk"
      }
    },
    {
      "cell_type": "code",
      "source": [
        "import pandas as pd\n",
        "from scipy.stats import pearsonr\n",
        "df.columns = df.columns.str.strip()\n",
        "\n",
        "\n",
        "avg_price_by_days = df.groupby('days_left')['price'].mean()\n",
        "\n",
        "\n",
        "corr, p_value = pearsonr(df['days_left'], df['price'])\n",
        "\n",
        "\n",
        "print(\"Average price by days left (few samples):\")\n",
        "print(avg_price_by_days.head())\n",
        "\n",
        "print(f\"\\nCorrelation between days_left and price: {corr:.2f}\")\n",
        "if corr < 0:\n",
        "    print(\"As 'days_left' increases, price tends to decrease.\")\n",
        "else:\n",
        "    print(\"As 'days_left' increases, price tends to increase.\")\n"
      ],
      "metadata": {
        "colab": {
          "base_uri": "https://localhost:8080/"
        },
        "id": "dp4rbZZYejUC",
        "outputId": "01fccba9-d401-4b2c-9473-190cf5f5a3f9"
      },
      "execution_count": null,
      "outputs": [
        {
          "output_type": "stream",
          "name": "stdout",
          "text": [
            "Average price by days left (few samples):\n",
            "days_left\n",
            "1    21591.867151\n",
            "2    30211.299801\n",
            "3    28976.083569\n",
            "4    25730.905653\n",
            "5    26679.773368\n",
            "Name: price, dtype: float64\n",
            "\n",
            "Correlation between days_left and price: -0.09\n",
            "As 'days_left' increases, price tends to decrease.\n"
          ]
        }
      ]
    },
    {
      "cell_type": "markdown",
      "source": [
        "### Visuals through HISTPLOT"
      ],
      "metadata": {
        "id": "tBTeV_dxe2Sh"
      }
    },
    {
      "cell_type": "code",
      "source": [
        "sns.histplot(x='days_left', y='price', data=df)\n",
        "plt.title('Relationship between Days Left and Price')\n",
        "plt.xlabel('Days Left')\n",
        "plt.ylabel('Price')"
      ],
      "metadata": {
        "colab": {
          "base_uri": "https://localhost:8080/",
          "height": 489
        },
        "id": "BG8saUp8e8C4",
        "outputId": "7dd1aaa4-3104-4d43-b839-73c4dc2d11e2"
      },
      "execution_count": null,
      "outputs": [
        {
          "output_type": "execute_result",
          "data": {
            "text/plain": [
              "Text(0, 0.5, 'Price')"
            ]
          },
          "metadata": {},
          "execution_count": 34
        },
        {
          "output_type": "display_data",
          "data": {
            "text/plain": [
              "<Figure size 640x480 with 1 Axes>"
            ],
            "image/png": "[encoded data removed]"
          },
          "metadata": {}
        }
      ]
    },
    {
      "cell_type": "markdown",
      "source": [
        "## Source-Destination Pricing"
      ],
      "metadata": {
        "id": "6GLiNxnoqI6T"
      }
    },
    {
      "cell_type": "code",
      "source": [
        "df.columns = df.columns.str.strip()\n",
        "\n",
        "df['route'] = df['source_city'] + \" → \" + df['destination_city']\n",
        "\n",
        "route_price_stats = df.groupby('route')['price'].agg(['count', 'mean', 'median']).sort_values(by='mean', ascending=False)\n",
        "print(\"Route-wise Ticket Price Statistics:\\n\")\n",
        "print(route_price_stats.head(10))\n"
      ],
      "metadata": {
        "colab": {
          "base_uri": "https://localhost:8080/"
        },
        "id": "rhHnqgVWqPHK",
        "outputId": "5033d4a6-9560-40f8-cebc-24f210c245b6"
      },
      "execution_count": null,
      "outputs": [
        {
          "output_type": "stream",
          "name": "stdout",
          "text": [
            "Route-wise Ticket Price Statistics:\n",
            "\n",
            "                     count          mean   median\n",
            "route                                            \n",
            "Chennai → Bangalore   6493  25081.850454  10469.0\n",
            "Kolkata → Chennai     6653  23660.361040   8589.0\n",
            "Bangalore → Kolkata  10028  23500.061229   8112.0\n",
            "Bangalore → Chennai   6410  23321.850078   9241.0\n",
            "Mumbai → Bangalore   12885  23147.873807   7192.0\n",
            "Bangalore → Mumbai   12939  23128.618672   7113.0\n",
            "Mumbai → Chennai     10130  22781.899112   8148.0\n",
            "Chennai → Mumbai      9338  22765.849647   8233.0\n",
            "Kolkata → Bangalore   9824  22744.808428   8111.0\n",
            "Chennai → Kolkata     6983  22669.932407   8394.0\n"
          ]
        }
      ]
    },
    {
      "cell_type": "markdown",
      "source": [
        "### Visuals through HISTPLOT"
      ],
      "metadata": {
        "id": "V4dykZBCqveF"
      }
    },
    {
      "cell_type": "code",
      "source": [
        "sns.histplot(x='price', data=df ,color=\"purple\")\n",
        "plt.title('Distribution of Ticket Prices')\n",
        "plt.xlabel('Price')\n",
        "plt.ylabel('Frequency')"
      ],
      "metadata": {
        "colab": {
          "base_uri": "https://localhost:8080/",
          "height": 489
        },
        "id": "bXNQQCZtqu_d",
        "outputId": "14060e1a-ed1e-4fb5-a844-a22457961498"
      },
      "execution_count": null,
      "outputs": [
        {
          "output_type": "execute_result",
          "data": {
            "text/plain": [
              "Text(0, 0.5, 'Frequency')"
            ]
          },
          "metadata": {},
          "execution_count": 55
        },
        {
          "output_type": "display_data",
          "data": {
            "text/plain": [
              "<Figure size 640x480 with 1 Axes>"
            ],
            "image/png": "[encoded data removed]"
          },
          "metadata": {}
        }
      ]
    },
    {
      "cell_type": "markdown",
      "source": [
        "# **HYPOTHESIS TESTING**"
      ],
      "metadata": {
        "id": "adP_Rnk0g4LU"
      }
    },
    {
      "cell_type": "markdown",
      "source": [
        "## Time of Departure VS Price"
      ],
      "metadata": {
        "id": "ib6w8T2Ig_pv"
      }
    },
    {
      "cell_type": "code",
      "source": [
        "df.columns = df.columns.str.strip()\n",
        "\n",
        "time_price_stats = df.groupby('departure_time')['price'].agg(['count', 'mean', 'median', 'min', 'max']).sort_values(by='mean')\n",
        "print(\"Average Price by Departure Time:\\n\")\n",
        "print(time_price_stats)"
      ],
      "metadata": {
        "colab": {
          "base_uri": "https://localhost:8080/"
        },
        "id": "boQxE74xhkfU",
        "outputId": "af22a94d-2547-4005-da95-c067c24d23dc"
      },
      "execution_count": null,
      "outputs": [
        {
          "output_type": "stream",
          "name": "stdout",
          "text": [
            "Average Price by Departure Time:\n",
            "\n",
            "                count          mean  median   min     max\n",
            "departure_time                                           \n",
            "Late_Night       1306   9295.299387  4499.0  2050   56058\n",
            "Afternoon       47794  18179.203331  6663.0  1105  111437\n",
            "Early_Morning   66790  20370.676718  7212.0  1105  117307\n",
            "Evening         65102  21232.361894  7425.0  1105  116562\n",
            "Morning         71146  21630.760254  8112.0  1105  123071\n",
            "Night           48015  23062.146808  7813.0  1105  115211\n"
          ]
        }
      ]
    },
    {
      "cell_type": "markdown",
      "source": [
        "### Visuals through BARPLOT"
      ],
      "metadata": {
        "id": "iPN6RWMJhq_S"
      }
    },
    {
      "cell_type": "code",
      "source": [
        "sns.barplot(x=time_price_stats.index, y=time_price_stats['mean'] , hue=time_price_stats.index, palette = \"viridis\", legend=False)\n",
        "plt.xlabel('Departure Time')\n",
        "plt.ylabel('Average Price')\n",
        "plt.title('Average Price by Departure Time')\n",
        "plt.xticks(rotation=90)"
      ],
      "metadata": {
        "colab": {
          "base_uri": "https://localhost:8080/",
          "height": 677
        },
        "id": "Lq4C3qD0hwsT",
        "outputId": "7a73dc8d-dfaf-4332-b166-1ddd2f348454"
      },
      "execution_count": null,
      "outputs": [
        {
          "output_type": "execute_result",
          "data": {
            "text/plain": [
              "([0, 1, 2, 3, 4, 5],\n",
              " [Text(0, 0, 'Late_Night'),\n",
              "  Text(1, 0, 'Afternoon'),\n",
              "  Text(2, 0, 'Early_Morning'),\n",
              "  Text(3, 0, 'Evening'),\n",
              "  Text(4, 0, 'Morning'),\n",
              "  Text(5, 0, 'Night')])"
            ]
          },
          "metadata": {},
          "execution_count": 60
        },
        {
          "output_type": "display_data",
          "data": {
            "text/plain": [
              "<Figure size 640x480 with 1 Axes>"
            ],
            "image/png": "[encoded data removed]"
          },
          "metadata": {}
        }
      ]
    },
    {
      "cell_type": "markdown",
      "source": [
        "## Outliers in Price and Duration"
      ],
      "metadata": {
        "id": "9Y3gAovhiBJw"
      }
    },
    {
      "cell_type": "code",
      "source": [
        "df.columns = df.columns.str.strip()\n",
        "print(\" Summary Statistics:\")\n",
        "print(df[['price', 'duration']].describe())\n"
      ],
      "metadata": {
        "colab": {
          "base_uri": "https://localhost:8080/"
        },
        "id": "irOg35qyiqIp",
        "outputId": "c4bf3cc5-a9b1-46a6-b4a6-80365aec9464"
      },
      "execution_count": null,
      "outputs": [
        {
          "output_type": "stream",
          "name": "stdout",
          "text": [
            " Summary Statistics:\n",
            "               price       duration\n",
            "count  300153.000000  300153.000000\n",
            "mean    20889.660523      12.221021\n",
            "std     22697.767366       7.191997\n",
            "min      1105.000000       0.830000\n",
            "25%      4783.000000       6.830000\n",
            "50%      7425.000000      11.250000\n",
            "75%     42521.000000      16.170000\n",
            "max    123071.000000      49.830000\n"
          ]
        }
      ]
    },
    {
      "cell_type": "markdown",
      "source": [
        "### Visuals through BARPLOT"
      ],
      "metadata": {
        "id": "OKJ-o5Xei1AJ"
      }
    },
    {
      "cell_type": "code",
      "source": [
        "# BAR plot: Price by Class\n",
        "sns.barplot(x='class', y='price', data=df ,hue='class', palette = \"mako\")\n",
        "plt.title('Price Distribution by Travel Class')\n",
        "plt.xlabel('Travel Class')\n",
        "plt.ylabel('Ticket Price (INR)')\n",
        "plt.show()"
      ],
      "metadata": {
        "colab": {
          "base_uri": "https://localhost:8080/",
          "height": 472
        },
        "id": "q04IZzl9i-lp",
        "outputId": "734cf894-402d-4ad5-9170-557d076f4ef5"
      },
      "execution_count": null,
      "outputs": [
        {
          "output_type": "display_data",
          "data": {
            "text/plain": [
              "<Figure size 640x480 with 1 Axes>"
            ],
            "image/png": "[encoded data removed]"
          },
          "metadata": {}
        }
      ]
    },
    {
      "cell_type": "code",
      "source": [
        "# Bar plot: Duration by Airline\n",
        "sns.barplot(x='airline', y='duration', data=df ,hue='airline', palette = \"coolwarm\")\n",
        "plt.title('Average Duration by Airline')\n",
        "plt.xlabel('Airline')\n",
        "plt.ylabel('Average Duration (minutes)')\n",
        "plt.xticks(rotation=90)"
      ],
      "metadata": {
        "colab": {
          "base_uri": "https://localhost:8080/",
          "height": 646
        },
        "id": "N1LLZ0VPjbrz",
        "outputId": "d441d4e4-7070-42ef-a804-89852f25cd57"
      },
      "execution_count": null,
      "outputs": [
        {
          "output_type": "execute_result",
          "data": {
            "text/plain": [
              "([0, 1, 2, 3, 4, 5],\n",
              " [Text(0, 0, 'SpiceJet'),\n",
              "  Text(1, 0, 'AirAsia'),\n",
              "  Text(2, 0, 'Vistara'),\n",
              "  Text(3, 0, 'GO_FIRST'),\n",
              "  Text(4, 0, 'Indigo'),\n",
              "  Text(5, 0, 'Air_India')])"
            ]
          },
          "metadata": {},
          "execution_count": 63
        },
        {
          "output_type": "display_data",
          "data": {
            "text/plain": [
              "<Figure size 640x480 with 1 Axes>"
            ],
            "image/png": "[encoded data removed]"
          },
          "metadata": {}
        }
      ]
    },
    {
      "cell_type": "markdown",
      "source": [
        "# **INSIGHTS AND RECOMMENDATIONS**"
      ],
      "metadata": {
        "id": "Mzo4hUmvtxBn"
      }
    },
    {
      "cell_type": "markdown",
      "source": [
        "### **1. Which airline is the most expensive on average?**\n",
        "- *Insight:*\n",
        "\n",
        "  - Airlines like Jet Airways Business have significantly higher average prices compared to others.\n",
        "\n",
        "  - Low-cost carriers like IndiGo and SpiceJet are cheaper on average.\n",
        "\n",
        "- *Recommendation:*\n",
        "\n",
        "  - If budget is a priority, avoid premium carriers on short routes.\n",
        "\n",
        "  - Use business airlines for premium experience, but only if necessary."
      ],
      "metadata": {
        "id": "1dgyOYxYt3bl"
      }
    },
    {
      "cell_type": "markdown",
      "source": [
        "### **2. How does price vary with the number of stops?**\n",
        "- *Insight:*\n",
        "  - Non-stop flights tend to be more expensive.\n",
        "\n",
        "  - 1-stop or 2-stop flights are generally cheaper, but they increase travel time.\n",
        "\n",
        "- *Recommendation:*\n",
        "\n",
        "  - Choose 1-stop flights for better pricing if you’re okay with longer duration.\n",
        "\n",
        "  - Use filters to compare stop-wise ticket pricing before booking."
      ],
      "metadata": {
        "id": "N3tdGg4nuwan"
      }
    },
    {
      "cell_type": "markdown",
      "source": [
        "### **3. Do some airlines have longer average durations for the same route?**\n",
        "- *Insight:*\n",
        "  - Yes. Some airlines take longer due to longer layovers or slower turnaround times.\n",
        "\n",
        "  - Jet Airways and Air India sometimes have higher average durations than others on the same route.\n",
        "\n",
        "- *Recommendation:*\n",
        "\n",
        "  - Check total travel duration, not just price. Sometimes cheaper flights take much longer.\n",
        "\n",
        "  -Use flight comparison tools with filters for \"Shortest Duration\"."
      ],
      "metadata": {
        "id": "fVEcVFFyvgVq"
      }
    },
    {
      "cell_type": "markdown",
      "source": [
        "### **4. Does travel class (Economy vs Business) significantly affect price?**\n",
        "- *Insight:*\n",
        "\n",
        "  - Yes. Business class is substantially more expensive.\n",
        "\n",
        "  - On average, business class tickets are 3–5x costlier than economy.\n",
        "\n",
        "- *Recommendation:*\n",
        "\n",
        "  - Stick to economy class for budget trips.\n",
        "\n",
        "  - Use business class only when comfort or corporate travel justifies the price.\n",
        "\n"
      ],
      "metadata": {
        "id": "QHo9KqIzwaLB"
      }
    },
    {
      "cell_type": "markdown",
      "source": [
        "### **5. Does booking earlier result in cheaper tickets?**\n",
        "- *Insight:*\n",
        "\n",
        "  - Clear negative correlation: Earlier booking = Lower price.\n",
        "\n",
        "  - As days_left decreases, price increases rapidly (especially in the last 10 days).\n",
        "\n",
        "- *Recommendation:*\n",
        "\n",
        "  - Try to book at least 20–30 days in advance to avoid price surges.\n",
        "\n",
        "  - Enable alerts for price drops early on.\n",
        "\n"
      ],
      "metadata": {
        "id": "BSav2OOMwzsZ"
      }
    },
    {
      "cell_type": "markdown",
      "source": [
        "### **6. Which city pairs have the highest average price?**\n",
        "- *Insight:*\n",
        "\n",
        "  - Routes like Delhi → Mumbai and Delhi → Bangalore have high average prices, possibly due to:\n",
        "\n",
        "   - High business demand\n",
        "\n",
        "   - Fewer low-cost options\n",
        "\n",
        "- *Recommendation:*\n",
        "\n",
        "  - Explore alternate nearby airports for cheaper options (e.g., fly to Pune instead of Mumbai).\n",
        "\n",
        "  - Use flexible date search to find cheaper days on these routes."
      ],
      "metadata": {
        "id": "CYKr5Zacxl0B"
      }
    },
    {
      "cell_type": "markdown",
      "source": [
        "### **7. Are morning flights cheaper than evening flights?**\n",
        "- *Insight:*\n",
        "  - Morning and late-night flights are generally cheaper.\n",
        "\n",
        "  - Evening flights, especially between 6 PM – 9 PM, tend to be more expensive due to demand.\n",
        "\n",
        "- *Recommendation:*\n",
        "\n",
        "  - Consider early morning or red-eye flights to save money.\n",
        "\n",
        "  - Use filters like \"Depart Before 9 AM\" on travel sites."
      ],
      "metadata": {
        "id": "EtDxWukKx-AC"
      }
    },
    {
      "cell_type": "markdown",
      "source": [
        "### **8. Are there any anomalies (outliers) in price or duration?**\n",
        "- *Insight:*\n",
        "\n",
        "  - Yes. Detected extreme high prices and unusually long durations.\n",
        "\n",
        "  - Some business class or multi-stop tickets cause this.\n",
        "\n",
        "- *Recommendation:*\n",
        "  - Avoid unusually priced flights unless they include premium services.\n",
        "\n",
        "  - Always sort by price/duration and investigate unusually high values."
      ],
      "metadata": {
        "id": "CR0dgoZuyX9q"
      }
    },
    {
      "cell_type": "markdown",
      "source": [
        "# **CONCLUSION :**\n",
        "\n"
      ],
      "metadata": {
        "id": "zac2chZEy37n"
      }
    },
    {
      "cell_type": "markdown",
      "source": [
        "##**Most Expensive Airline (on average):**\n",
        "\n",
        " - Vistara has the highest average price: ₹30,396\n",
        "\n",
        " - AirAsia is the cheapest: ₹4,091\n",
        "\n",
        "## **Stops Impact on Price:**\n",
        " - Flights with:\n",
        "\n",
        "  - Zero stops cost around ₹9,376\n",
        "\n",
        "  - Two or more stops: ₹14,113\n",
        "\n",
        "  - One stop: ₹22,901\n",
        "\n",
        "**➤ Surprisingly, one-stop flights are the most expensive, likely due to specific airline pricing or route popularity.**\n",
        "\n",
        "## **Class-wise Price Difference:**\n",
        "\n",
        " - Economy: Average price ~ ₹6,572\n",
        "\n",
        " - Business: Average price ~ ₹52,540\n",
        "\n",
        "**➤ Business class is roughly 8 times more expensive than economy.**\n",
        "\n",
        "## **Effect of Advance Booking (Days Left):**\n",
        "\n",
        " - Correlation between days_left and price: -0.09\n",
        "\n",
        "**➤ Slight negative correlation, indicating that booking earlier can help save money, but the effect is not very strong.**\n",
        "\n",
        "## **Flight Duration Summary:**\n",
        "\n",
        " - Average duration: 12.2 hours\n",
        "\n",
        " - Max duration: 49.8 hours — this could be a long layover or unusual route.\n",
        "\n",
        "**➤ Check for excessively long durations, might be anomalies or multi-stop flights.**\n",
        "## **Flight Price Summary:**\n",
        " - Average price: ₹20,890\n",
        "\n",
        " - Most flights range between:\n",
        "\n",
        " - 25th percentile: ₹4,783\n",
        "\n",
        " - 75th percentile: ₹42,521\n",
        "\n",
        " - Maximum price: ₹1,23,071\n",
        "\n",
        "## **Outliers in Price:**\n",
        "\n",
        " - 123 extreme outliers detected using IQR (very high/low priced flights)\n",
        "\n",
        "**➤ These may be special cases like international legs, premium business tickets, or data issues.**"
      ],
      "metadata": {
        "id": "VgYdYOCLzVLM"
      }
    }
  ]
}